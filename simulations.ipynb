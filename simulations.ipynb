{
 "cells": [
  {
   "cell_type": "code",
   "execution_count": 1,
   "metadata": {},
   "outputs": [],
   "source": [
    "import traceback, warnings\n",
    "warnings.filterwarnings(\"ignore\", category=UserWarning)\n",
    "\n",
    "import numpy as np\n",
    "import matplotlib.pyplot as plt\n",
    "from matplotlib import cm\n",
    "from matplotlib.collections import PatchCollection\n",
    "import matplotlib.patches as patches\n",
    "import mpl_toolkits.mplot3d.art3d as art3d\n",
    "\n",
    "from itertools import product"
   ]
  },
  {
   "cell_type": "code",
   "execution_count": 2,
   "metadata": {},
   "outputs": [],
   "source": [
    "def rotation_matrix(d):\n",
    "    \"\"\"\n",
    "    Calculates a rotation matrix given a vector d. The direction of d\n",
    "    corresponds to the rotation axis. The length of d corresponds to \n",
    "    the sin of the angle of rotation.\n",
    "\n",
    "    Variant of: http://mail.scipy.org/pipermail/numpy-discussion/2009-March/040806.html\n",
    "    \"\"\"\n",
    "    sin_angle = np.linalg.norm(d)\n",
    "\n",
    "    if sin_angle == 0:\n",
    "        return np.identity(3)\n",
    "\n",
    "    d /= sin_angle\n",
    "\n",
    "    eye = np.eye(3)\n",
    "    ddt = np.outer(d, d)\n",
    "    skew = np.array([[0,  d[2],  -d[1]],\n",
    "                     [-d[2],     0,  d[0]],\n",
    "                     [d[1], -d[0],    0]], dtype=np.float64)\n",
    "\n",
    "    M = ddt + np.sqrt(1 - sin_angle**2) * (eye - ddt) + sin_angle * skew\n",
    "    return M\n",
    "\n",
    "\n",
    "def pathpatch_2d_to_3d(pathpatch, z=0, normal='z'):\n",
    "    \"\"\"\n",
    "    Transforms a 2D Patch to a 3D patch using the given normal vector.\n",
    "\n",
    "    The patch is projected into they XY plane, rotated about the origin\n",
    "    and finally translated by z.\n",
    "    \"\"\"\n",
    "    if type(normal) is str:  # Translate strings to normal vectors\n",
    "        index = \"xyz\".index(normal)\n",
    "        normal = np.roll((1.0, 0, 0), index)\n",
    "\n",
    "    normal /= np.linalg.norm(normal)  # Make sure the vector is normalised\n",
    "\n",
    "    path = pathpatch.get_path()  # Get the path and the associated transform\n",
    "    trans = pathpatch.get_patch_transform()\n",
    "\n",
    "    path = trans.transform_path(path)  # Apply the transform\n",
    "\n",
    "    pathpatch.__class__ = art3d.PathPatch3D  # Change the class\n",
    "    pathpatch._code3d = path.codes  # Copy the codes\n",
    "    pathpatch._facecolor3d = pathpatch.get_facecolor  # Get the face color\n",
    "\n",
    "    verts = path.vertices  # Get the vertices in 2D\n",
    "\n",
    "    d = np.cross(normal, (0, 0, 1))  # Obtain the rotation vector\n",
    "    M = rotation_matrix(d)  # Get the rotation matrix\n",
    "\n",
    "    pathpatch._segment3d = np.array(\n",
    "        [np.dot(M, (x, y, 0)) + (0, 0, z) for x, y in verts])\n",
    "\n",
    "\n",
    "def pathpatch_translate(pathpatch, delta):\n",
    "    \"\"\"\n",
    "    Translates the 3D pathpatch by the amount delta.\n",
    "    \"\"\"\n",
    "    pathpatch._segment3d += delta\n"
   ]
  },
  {
   "cell_type": "code",
   "execution_count": 4,
   "metadata": {},
   "outputs": [],
   "source": [
    "def add_plane(ax, pos, normal_axis, size=0.02, color='blue'):\n",
    "    \"\"\"Adds a rectangle indicating a plane\n",
    "\n",
    "    Args:\n",
    "        ax (Axes): Axes to plot\n",
    "        pos (float): Where to plot\n",
    "        normal_axis (string): Axis normal to the plane\n",
    "        size (float, optional): Dimension of the square. Defaults to 0.02.\n",
    "        color (str, optional): Fill color. Defaults to 'blue'.\n",
    "    \"\"\"\n",
    "\n",
    "    p = patches.Rectangle((-size, -size), 2 * size, 2 * size, linewidth=8,\n",
    "                          facecolor=color, alpha=0.2)\n",
    "    ax.add_patch(p)\n",
    "    \n",
    "    # art3d.pathpatch_2d_to_3d(p, z=pos, zdir=normal_axis)\n",
    "    pathpatch_2d_to_3d(p, z=0, normal=normal_axis)\n",
    "    pathpatch_translate(p, (pos, 0, 0))"
   ]
  },
  {
   "cell_type": "code",
   "execution_count": 5,
   "metadata": {},
   "outputs": [],
   "source": [
    "r = np.arange(-0.1, 1.125 * 0.1, 0.2 / 8)\n",
    "factor = np.pi / r.max()\n",
    "\n",
    "x, y, z = np.meshgrid(r, 0, 0)\n",
    "xf = (x + r.max()) / r.max() * np.pi / 2\n",
    "\n",
    "plot_lim = 0.08"
   ]
  },
  {
   "cell_type": "markdown",
   "metadata": {},
   "source": [
    "## Bloch walls"
   ]
  },
  {
   "cell_type": "code",
   "execution_count": 8,
   "metadata": {},
   "outputs": [
    {
     "data": {
      "image/png": "[encoded data removed]",
      "text/plain": [
       "<Figure size 576x576 with 1 Axes>"
      ]
     },
     "metadata": {
      "needs_background": "light"
     },
     "output_type": "display_data"
    }
   ],
   "source": [
    "u = np.zeros_like(x)\n",
    "v = np.sin(xf)\n",
    "w = np.cos(xf)\n",
    "\n",
    "scale = np.sqrt(u**2 + v**2 + w**2)\n",
    "\n",
    "u, v, w = u/scale, v/scale, w/scale\n",
    "\n",
    "ax = plt.figure(figsize=(8, 8)).add_subplot(projection='3d')\n",
    "ax.set_xlim(r[0], r[-1])\n",
    "ax.set_ylim(-plot_lim, plot_lim)\n",
    "ax.set_zlim(-plot_lim, plot_lim)\n",
    "ax.set_axis_off()\n",
    "ax.set_xlabel('x')\n",
    "ax.set_ylabel('y')\n",
    "ax.set_zlabel('z')\n",
    "\n",
    "x_ends = np.array([[x[0, 0], x[0, -1]]])\n",
    "u_ends = np.array([[u[0, 0], u[0, -1]]])\n",
    "v_ends = np.array([[v[0, 0], v[0, -1]]])\n",
    "w_ends = np.array([[w[0, 0], w[0, -1]]])\n",
    "x_mids = np.array([[x[0, 1:-1]]])\n",
    "u_mids = np.array([[u[0, 1:-1]]])\n",
    "v_mids = np.array([[v[0, 1:-1]]])\n",
    "w_mids = np.array([[w[0, 1:-1]]])\n",
    "\n",
    "ax.quiver(x_ends, 0, 0, u_ends, v_ends, w_ends, pivot='middle', length=0.05)\n",
    "ax.quiver(x_mids, 0, 0, u_mids, v_mids, w_mids, pivot='middle', length=0.03)\n",
    "\n",
    "for i in [r[0], r[-1]]:\n",
    "    add_plane(ax, i, 'x', size=0.04, color='green')\n",
    "\n",
    "for i in r[1:-1]:\n",
    "    add_plane(ax, i, 'x')\n"
   ]
  },
  {
   "cell_type": "markdown",
   "metadata": {},
   "source": [
    "## Néel walls"
   ]
  },
  {
   "cell_type": "code",
   "execution_count": 10,
   "metadata": {},
   "outputs": [
    {
     "data": {
      "image/png": "[encoded data removed]",
      "text/plain": [
       "<Figure size 576x576 with 1 Axes>"
      ]
     },
     "metadata": {
      "needs_background": "light"
     },
     "output_type": "display_data"
    }
   ],
   "source": [
    "u = np.sin(xf)\n",
    "v = np.zeros_like(x)\n",
    "w = np.cos(xf)\n",
    "\n",
    "scale = np.sqrt(u**2 + v**2 + w**2)\n",
    "\n",
    "u, v, w = u/scale, v/scale, w/scale\n",
    "\n",
    "ax = plt.figure(figsize=(8, 8)).add_subplot(projection='3d')\n",
    "ax.set_xlim(r[0], r[-1])\n",
    "ax.set_ylim(-plot_lim, plot_lim)\n",
    "ax.set_zlim(-plot_lim, plot_lim)\n",
    "ax.set_axis_off()\n",
    "ax.set_xlabel('x')\n",
    "ax.set_ylabel('y')\n",
    "ax.set_zlabel('z')\n",
    "\n",
    "x_ends = np.array([[x[0, 0], x[0, -1]]])\n",
    "u_ends = np.array([[u[0, 0], u[0, -1]]])\n",
    "v_ends = np.array([[v[0, 0], v[0, -1]]])\n",
    "w_ends = np.array([[w[0, 0], w[0, -1]]])\n",
    "x_mids = np.array([[x[0, 1:-1]]])\n",
    "u_mids = np.array([[u[0, 1:-1]]])\n",
    "v_mids = np.array([[v[0, 1:-1]]])\n",
    "w_mids = np.array([[w[0, 1:-1]]])\n",
    "\n",
    "ax.quiver(x_ends, 0, 0, u_ends, v_ends, w_ends, pivot='middle', length=0.05);\n",
    "ax.quiver(x_mids, 0, 0, u_mids, v_mids, w_mids, pivot='middle', length=0.02)\n",
    "\n",
    "for i in [r[0], r[-1]]:\n",
    "    add_plane(ax, i, 'x', size=0.04, color='green')\n",
    "\n",
    "for i in r[1:-1]:\n",
    "    add_plane(ax, i, 'y', size=0.011)\n"
   ]
  },
  {
   "cell_type": "code",
   "execution_count": null,
   "metadata": {},
   "outputs": [],
   "source": []
  }
 ],
 "metadata": {
  "kernelspec": {
   "display_name": "Python 3.9.2 ('pynv')",
   "language": "python",
   "name": "python3"
  },
  "language_info": {
   "codemirror_mode": {
    "name": "ipython",
    "version": 3
   },
   "file_extension": ".py",
   "mimetype": "text/x-python",
   "name": "python",
   "nbconvert_exporter": "python",
   "pygments_lexer": "ipython3",
   "version": "3.9.2"
  },
  "orig_nbformat": 4,
  "vscode": {
   "interpreter": {
    "hash": "87f48ab58f6a391c90bbacacdc7360abd019800ff9baab2a0be3977ec238a63d"
   }
  }
 },
 "nbformat": 4,
 "nbformat_minor": 2
}

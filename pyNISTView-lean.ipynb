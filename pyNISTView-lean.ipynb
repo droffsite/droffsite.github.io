{
 "cells": [
  {
   "cell_type": "code",
   "execution_count": 1,
   "metadata": {
    "ExecuteTime": {
     "end_time": "2020-05-26T17:36:29.502122Z",
     "start_time": "2020-05-26T17:36:27.738965Z"
    },
    "execution": {
     "iopub.status.idle": "2020-10-26T22:42:01.186701Z",
     "shell.execute_reply": "2020-10-26T22:42:01.186164Z",
     "shell.execute_reply.started": "2020-10-26T22:42:00.594341Z"
    }
   },
   "outputs": [],
   "source": [
    "import glob\n",
    "\n",
    "import numpy as np\n",
    "import matplotlib.pyplot as plt\n",
    "\n",
    "from matplotlib import cm\n",
    "from mpl_toolkits.axes_grid1 import make_axes_locatable\n",
    "\n",
    "from pynistview_utils import *\n",
    "from selelems import *\n",
    "\n",
    "import cv2\n",
    "\n",
    "plt.style.use('dark_background')"
   ]
  },
  {
   "cell_type": "code",
   "execution_count": 2,
   "metadata": {
    "ExecuteTime": {
     "end_time": "2020-05-26T17:37:22.374109Z",
     "start_time": "2020-05-26T17:37:22.371216Z"
    },
    "execution": {
     "iopub.execute_input": "2020-10-26T22:42:01.188348Z",
     "iopub.status.busy": "2020-10-26T22:42:01.188190Z",
     "iopub.status.idle": "2020-10-26T22:42:01.191134Z",
     "shell.execute_reply": "2020-10-26T22:42:01.190500Z",
     "shell.execute_reply.started": "2020-10-26T22:42:01.188328Z"
    }
   },
   "outputs": [],
   "source": [
    "# Specify the number of features - 1 in the image. This is used to segment and create masks.\n",
    "segments = 5\n",
    "\n",
    "# Specify gaussian denoising sigma\n",
    "sigma = 2\n",
    "\n",
    "# Specify non-local denoising strength h. Larger h -> more denoising.\n",
    "h = 20\n",
    "\n",
    "# Specify a scale for drawing the vector arrows. Smaller number -> longer arrow.\n",
    "arrow_scale = 0.5\n",
    "\n",
    "# Specify a color for the vector arrows.\n",
    "#arrow_color = 'black'\n",
    "arrow_color = 'white'"
   ]
  },
  {
   "cell_type": "code",
   "execution_count": 5,
   "metadata": {
    "execution": {
     "iopub.execute_input": "2020-10-26T22:47:39.622340Z",
     "iopub.status.busy": "2020-10-26T22:47:39.622155Z",
     "iopub.status.idle": "2020-10-26T22:47:39.634161Z",
     "shell.execute_reply": "2020-10-26T22:47:39.633637Z",
     "shell.execute_reply.started": "2020-10-26T22:47:39.622320Z"
    }
   },
   "outputs": [],
   "source": [
    "def process_data(indir, sempa_file_suffix, name, run):\n",
    "    # Read in image data.\n",
    "\n",
    "    full_name = name + f'{run:0>3}'\n",
    "\n",
    "    file = indir + full_name\n",
    "\n",
    "    files = np.asarray(glob.glob('{}*x*{}'.format(file, sempa_file_suffix)))\n",
    "    files = np.append(files, glob.glob('{}*y*{}'.format(file, sempa_file_suffix)))\n",
    "    files = sorted(np.append(files, glob.glob('{}*z*{}'.format(file, sempa_file_suffix))))\n",
    "\n",
    "    # intensity, _ = image_data(file + im_suffix)\n",
    "    # m_1, axis_1 = image_data(file + m1_suffix)\n",
    "    # m_2, axis_2 = image_data(file + m2_suffix)\n",
    "    intensity, _ = image_data(files[0])\n",
    "    m_1, axis_1 = image_data(files[2])\n",
    "    m_2, axis_2 = image_data(files[3])\n",
    "\n",
    "    # Get file dimensions\n",
    "\n",
    "    m_1_ydim, m_1_xdim = m_1.shape\n",
    "    m_2_ydim, m_2_xdim = m_2.shape\n",
    "\n",
    "    # Extract extrema for later processing\n",
    "\n",
    "    m_1_min, m_1_max = m_1.min(), m_1.max()\n",
    "    m_2_min, m_2_max = m_2.min(), m_2.max()\n",
    "\n",
    "    # Flatten the intensity image\n",
    "\n",
    "    intensity_blurred = median_filter(intensity, 3);\n",
    "    intensity_flat = intensity - intensity_blurred;\n",
    "\n",
    "    scale = get_scale(files[0])\n",
    "\n",
    "    m_1_delined, m_2_delined = remove_line_errors(m_1, 20), remove_line_errors(m_2, 20)\n",
    "    m_1_delined, m_2_delined = rescale(m_1_delined, m_1_min, m_1_max), rescale(m_2_delined, m_2_min, m_2_max)\n",
    "\n",
    "    m_1_shift, m_2_shift = mean_shift_filter(m_1_delined), mean_shift_filter(m_2_delined)\n",
    "\n",
    "    m_1_thresh, m_1_seg, m_1_masks = segment_image(m_1_shift, segments=segments)\n",
    "    m_2_thresh, m_2_seg, m_2_masks = segment_image(m_2_shift, segments=segments)\n",
    "\n",
    "    # m_1 first\n",
    "    m_1_light_mask, m_1_dark_mask = m_1_masks[0, 0], m_1_masks[0, 1]\n",
    "\n",
    "    m_1_light_fit_all, m_1_light_fit = fit_image(m_1, m_1_light_mask)\n",
    "    m_1_dark_fit_all, m_1_dark_fit = fit_image(m_1, m_1_dark_mask)\n",
    "\n",
    "    m_1_light_fitted, m_1_dark_fitted = m_1 - m_1_light_fit_all, m_1 - m_1_dark_fit_all\n",
    "\n",
    "    # and m_2\n",
    "    m_2_light_mask, m_2_dark_mask = m_2_masks[0, 0], m_2_masks[0, 1]\n",
    "\n",
    "    m_2_light_fit_all, m_2_light_fit = fit_image(m_2, m_2_light_mask)\n",
    "    m_2_dark_fit_all, m_2_dark_fit = fit_image(m_2, m_2_dark_mask)\n",
    "\n",
    "    m_2_light_fitted, m_2_dark_fitted = m_2 - m_2_light_fit_all, m_2 - m_2_dark_fit_all\n",
    "\n",
    "\n",
    "    # Rescale both\n",
    "    m_1_light_fitted, m_2_light_fitted = rescale_to(m_1_light_fitted, m_1), rescale_to(m_2_light_fitted, m_2)\n",
    "\n",
    "    m_1_fitted_denoised, m_1_fitted_denoised_blurred = clean_image(m_1_light_fitted, sigma=sigma, h=h)\n",
    "    m_2_fitted_denoised, m_2_fitted_denoised_blurred = clean_image(m_2_light_fitted, sigma=sigma, h=h)\n",
    "\n",
    "    # Minimize the min to max spread on the magnitudes of the combines images. Use CoM for a starting point.\n",
    "\n",
    "    offsets, status, message = find_offsets(m_1_fitted_denoised, m_2_fitted_denoised)\n",
    "    m_1_offset, m_2_offset = offsets\n",
    "\n",
    "    # Apply offsets\n",
    "\n",
    "    m_1_denoised, m_2_denoised = m_1_fitted_denoised - m_1_offset, m_2_fitted_denoised - m_2_offset\n",
    "\n",
    "    # Extract phase and magnitude information\n",
    "\n",
    "    phases = get_phases(m_1_denoised, m_2_denoised)\n",
    "    magnitudes = get_magnitudes(m_1_denoised, m_2_denoised)\n",
    "    magnitudes /= magnitudes.max()\n",
    "    print('Phase spectrum for run {}: {:.6f} - {:.6f} ({:.3f}º - {:.3f}º)'.format(\n",
    "        run, phases.min(), phases.max(), phases.min() * 180 / np.pi, phases.max() * 180 / np.pi))\n",
    "\n",
    "    # Show a colorized version of the domains\n",
    "\n",
    "    img = render_phases_and_magnitudes(magnitudes, phases)\n",
    "\n",
    "    save_file(file, intensity, img, axis_1, axis_2, scale, img_denoised_1=m_1_denoised,\n",
    "              img_denoised_2=m_2_denoised, arrow_color=arrow_color, arrow_scale=arrow_scale)"
   ]
  },
  {
   "cell_type": "code",
   "execution_count": 6,
   "metadata": {
    "ExecuteTime": {
     "end_time": "2020-05-26T17:37:22.374109Z",
     "start_time": "2020-05-26T17:37:22.371216Z"
    },
    "execution": {
     "iopub.execute_input": "2020-10-26T22:47:42.627073Z",
     "iopub.status.busy": "2020-10-26T22:47:42.626908Z",
     "iopub.status.idle": "2020-10-26T22:47:51.989820Z",
     "shell.execute_reply": "2020-10-26T22:47:51.989193Z",
     "shell.execute_reply.started": "2020-10-26T22:47:42.627054Z"
    }
   },
   "outputs": [
    {
     "name": "stdout",
     "output_type": "stream",
     "text": [
      "Phase spectrum for run 1: 0.008370 - 6.275260 (0.480º - 359.546º)\n",
      "Phase spectrum for run 2: 0.013622 - 6.268287 (0.780º - 359.146º)\n",
      "Phase spectrum for run 3: 0.010170 - 6.266175 (0.583º - 359.025º)\n",
      "Phase spectrum for run 4: 0.042448 - 6.240600 (2.432º - 357.560º)\n",
      "Phase spectrum for run 5: 0.075110 - 1.442315 (4.303º - 82.639º)\n"
     ]
    }
   ],
   "source": [
    "# Configure input files\n",
    "\n",
    "indir = \"/Users/rmoraski/Documents/iCloud/School/Electrons/NISTView-ish/\"\n",
    "sempa_file_suffix = 'sempa'\n",
    "\n",
    "#name = \"191001_Fe_whisker/Fe_whisker\"\n",
    "name = \"FeGd_Nov_Dec/171117_FeGd\"\n",
    "#name = \"FeGd_Nov_Dec/FeGd100\"\n",
    "#name = \"FeGd_Nov_Dec/FeGd200\"\n",
    "\n",
    "#run = 1\n",
    "\n",
    "for run in range(1, 6):\n",
    "    process_data(indir, sempa_file_suffix, name, run)"
   ]
  },
  {
   "cell_type": "code",
   "execution_count": null,
   "metadata": {},
   "outputs": [],
   "source": []
  }
 ],
 "metadata": {
  "kernelspec": {
   "display_name": "Python 3",
   "language": "python",
   "name": "python3"
  },
  "language_info": {
   "codemirror_mode": {
    "name": "ipython",
    "version": 3
   },
   "file_extension": ".py",
   "mimetype": "text/x-python",
   "name": "python",
   "nbconvert_exporter": "python",
   "pygments_lexer": "ipython3",
   "version": "3.7.7"
  },
  "latex_envs": {
   "LaTeX_envs_menu_present": true,
   "autoclose": false,
   "autocomplete": true,
   "bibliofile": "biblio.bib",
   "cite_by": "apalike",
   "current_citInitial": 1,
   "eqLabelWithNumbers": true,
   "eqNumInitial": 1,
   "hotkeys": {
    "equation": "Ctrl-E",
    "itemize": "Ctrl-I"
   },
   "labels_anchors": false,
   "latex_user_defs": false,
   "report_style_numbering": false,
   "user_envs_cfg": false
  },
  "toc": {
   "base_numbering": 1,
   "nav_menu": {},
   "number_sections": false,
   "sideBar": true,
   "skip_h1_title": false,
   "title_cell": "Table of Contents",
   "title_sidebar": "Contents",
   "toc_cell": false,
   "toc_position": {},
   "toc_section_display": true,
   "toc_window_display": true
  },
  "varInspector": {
   "cols": {
    "lenName": 16,
    "lenType": 16,
    "lenVar": 40
   },
   "kernels_config": {
    "python": {
     "delete_cmd_postfix": "",
     "delete_cmd_prefix": "del ",
     "library": "var_list.py",
     "varRefreshCmd": "print(var_dic_list())"
    },
    "r": {
     "delete_cmd_postfix": ") ",
     "delete_cmd_prefix": "rm(",
     "library": "var_list.r",
     "varRefreshCmd": "cat(var_dic_list()) "
    }
   },
   "position": {
    "height": "723.763671875px",
    "left": "1614.71533203125px",
    "right": "20px",
    "top": "119.99999237060547px",
    "width": "312.16290283203125px"
   },
   "types_to_exclude": [
    "module",
    "function",
    "builtin_function_or_method",
    "instance",
    "_Feature"
   ],
   "window_display": false
  }
 },
 "nbformat": 4,
 "nbformat_minor": 4
}

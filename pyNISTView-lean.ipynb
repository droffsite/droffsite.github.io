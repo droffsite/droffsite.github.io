{
 "cells": [
  {
   "cell_type": "code",
   "execution_count": 1,
   "metadata": {
    "ExecuteTime": {
     "end_time": "2020-05-26T17:36:29.502122Z",
     "start_time": "2020-05-26T17:36:27.738965Z"
    },
    "execution": {
     "iopub.execute_input": "2020-11-18T00:20:39.668363Z",
     "iopub.status.busy": "2020-11-18T00:20:39.668122Z",
     "iopub.status.idle": "2020-11-18T00:20:42.512372Z",
     "shell.execute_reply": "2020-11-18T00:20:42.511886Z",
     "shell.execute_reply.started": "2020-11-18T00:20:39.668311Z"
    }
   },
   "outputs": [],
   "source": [
    "import glob\n",
    "\n",
    "import numpy as np\n",
    "import matplotlib.pyplot as plt\n",
    "\n",
    "from matplotlib import cm\n",
    "from mpl_toolkits.axes_grid1 import make_axes_locatable\n",
    "\n",
    "from pynistview_utils import *\n",
    "from selelems import *\n",
    "\n",
    "import cv2\n",
    "\n",
    "plt.style.use('dark_background')"
   ]
  },
  {
   "cell_type": "code",
   "execution_count": 2,
   "metadata": {
    "ExecuteTime": {
     "end_time": "2020-05-26T17:37:22.374109Z",
     "start_time": "2020-05-26T17:37:22.371216Z"
    },
    "execution": {
     "iopub.execute_input": "2020-11-18T00:20:42.518203Z",
     "iopub.status.busy": "2020-11-18T00:20:42.518047Z",
     "iopub.status.idle": "2020-11-18T00:20:42.521293Z",
     "shell.execute_reply": "2020-11-18T00:20:42.520656Z",
     "shell.execute_reply.started": "2020-11-18T00:20:42.518183Z"
    }
   },
   "outputs": [],
   "source": [
    "# Specify the number of features - 1 in the image. This is used to segment and create masks.\n",
    "segments = 5\n",
    "\n",
    "# Specify gaussian denoising sigma\n",
    "sigma = 2\n",
    "\n",
    "# Specify non-local denoising strength h. Larger h -> more denoising.\n",
    "h = 20\n",
    "\n",
    "# Specify a scale for drawing the vector arrows. Smaller number -> longer arrow.\n",
    "arrow_scale = 0.5\n",
    "\n",
    "# Specify a color for the vector arrows.\n",
    "#arrow_color = 'black'\n",
    "arrow_color = 'white'"
   ]
  },
  {
   "cell_type": "code",
   "execution_count": 3,
   "metadata": {
    "execution": {
     "iopub.execute_input": "2020-11-18T00:20:42.522587Z",
     "iopub.status.busy": "2020-11-18T00:20:42.522408Z",
     "iopub.status.idle": "2020-11-18T00:20:42.535207Z",
     "shell.execute_reply": "2020-11-18T00:20:42.534682Z",
     "shell.execute_reply.started": "2020-11-18T00:20:42.522564Z"
    }
   },
   "outputs": [],
   "source": [
    "def process_data(indir, sempa_file_suffix, name, run):\n",
    "    # Read in image data.\n",
    "\n",
    "    full_name = name + f'{run:0>3}'\n",
    "\n",
    "    file = indir + full_name\n",
    "\n",
    "    files = np.asarray(glob.glob('{}*x*{}'.format(file, sempa_file_suffix)))\n",
    "    files = np.append(files, glob.glob('{}*y*{}'.format(file, sempa_file_suffix)))\n",
    "    files = sorted(np.append(files, glob.glob('{}*z*{}'.format(file, sempa_file_suffix))))\n",
    "\n",
    "    # intensity, _ = image_data(file + im_suffix)\n",
    "    # m_1, axis_1 = image_data(file + m1_suffix)\n",
    "    # m_2, axis_2 = image_data(file + m2_suffix)\n",
    "    intensity, _ = image_data(files[0])\n",
    "    m_1, axis_1 = image_data(files[2])\n",
    "    m_2, axis_2 = image_data(files[3])\n",
    "\n",
    "    # Get file dimensions\n",
    "\n",
    "    m_1_ydim, m_1_xdim = m_1.shape\n",
    "    m_2_ydim, m_2_xdim = m_2.shape\n",
    "\n",
    "    # Extract extrema for later processing\n",
    "\n",
    "    m_1_min, m_1_max = m_1.min(), m_1.max()\n",
    "    m_2_min, m_2_max = m_2.min(), m_2.max()\n",
    "\n",
    "    # Flatten the intensity image\n",
    "\n",
    "    intensity_blurred = median_filter(intensity, 3);\n",
    "    intensity_flat = intensity - intensity_blurred;\n",
    "\n",
    "    scale = get_scale(files[0])\n",
    "\n",
    "    m_1_delined, m_2_delined = remove_line_errors(m_1, 20), remove_line_errors(m_2, 20)\n",
    "    m_1_delined, m_2_delined = rescale(m_1_delined, m_1_min, m_1_max), rescale(m_2_delined, m_2_min, m_2_max)\n",
    "\n",
    "    m_1_shift, m_2_shift = mean_shift_filter(m_1_delined), mean_shift_filter(m_2_delined)\n",
    "\n",
    "    m_1_thresh, m_1_seg, m_1_masks = segment_image(m_1_shift, segments=segments)\n",
    "    m_2_thresh, m_2_seg, m_2_masks = segment_image(m_2_shift, segments=segments)\n",
    "\n",
    "    # m_1 first\n",
    "    m_1_light_mask, m_1_dark_mask = m_1_masks[0, 0], m_1_masks[0, 1]\n",
    "\n",
    "    m_1_light_fit_all, m_1_light_fit = fit_image(m_1, m_1_light_mask)\n",
    "    m_1_dark_fit_all, m_1_dark_fit = fit_image(m_1, m_1_dark_mask)\n",
    "\n",
    "    m_1_light_fitted, m_1_dark_fitted = m_1 - m_1_light_fit_all, m_1 - m_1_dark_fit_all\n",
    "\n",
    "    # and m_2\n",
    "    m_2_light_mask, m_2_dark_mask = m_2_masks[0, 0], m_2_masks[0, 1]\n",
    "\n",
    "    m_2_light_fit_all, m_2_light_fit = fit_image(m_2, m_2_light_mask)\n",
    "    m_2_dark_fit_all, m_2_dark_fit = fit_image(m_2, m_2_dark_mask)\n",
    "\n",
    "    m_2_light_fitted, m_2_dark_fitted = m_2 - m_2_light_fit_all, m_2 - m_2_dark_fit_all\n",
    "\n",
    "\n",
    "    # Rescale both\n",
    "    m_1_light_fitted, m_2_light_fitted = rescale_to(m_1_light_fitted, m_1), rescale_to(m_2_light_fitted, m_2)\n",
    "\n",
    "    m_1_fitted_denoised, m_1_fitted_denoised_blurred = clean_image(m_1_light_fitted, sigma=sigma, h=h)\n",
    "    m_2_fitted_denoised, m_2_fitted_denoised_blurred = clean_image(m_2_light_fitted, sigma=sigma, h=h)\n",
    "\n",
    "    # Minimize the min to max spread on the magnitudes of the combines images. Use CoM for a starting point.\n",
    "\n",
    "    offsets, status, message = find_offsets(m_1_fitted_denoised, m_2_fitted_denoised)\n",
    "    m_1_offset, m_2_offset = offsets\n",
    "\n",
    "    # Apply offsets\n",
    "\n",
    "    m_1_denoised, m_2_denoised = m_1_fitted_denoised - m_1_offset, m_2_fitted_denoised - m_2_offset\n",
    "\n",
    "    # Extract phase and magnitude information\n",
    "\n",
    "    phases = get_phases(m_1_denoised, m_2_denoised)\n",
    "    magnitudes = get_magnitudes(m_1_denoised, m_2_denoised)\n",
    "    magnitudes /= magnitudes.max()\n",
    "    print('Phase spectrum for run {}: {:.6f} - {:.6f} ({:.3f}º - {:.3f}º)'.format(\n",
    "        run, phases.min(), phases.max(), phases.min() * 180 / np.pi, phases.max() * 180 / np.pi))\n",
    "\n",
    "    # Show a colorized version of the domains\n",
    "\n",
    "    img = render_phases_and_magnitudes(magnitudes, phases)\n",
    "\n",
    "    save_file(file, intensity, img, axis_1, axis_2, scale, img_denoised_1=m_1_denoised,\n",
    "              img_denoised_2=m_2_denoised, arrow_color=arrow_color, arrow_scale=arrow_scale)"
   ]
  },
  {
   "cell_type": "code",
   "execution_count": 4,
   "metadata": {
    "ExecuteTime": {
     "end_time": "2020-05-26T17:37:22.374109Z",
     "start_time": "2020-05-26T17:37:22.371216Z"
    },
    "execution": {
     "iopub.execute_input": "2020-11-18T00:21:38.337837Z",
     "iopub.status.busy": "2020-11-18T00:21:38.337673Z",
     "iopub.status.idle": "2020-11-18T00:21:38.933381Z",
     "shell.execute_reply": "2020-11-18T00:21:38.932312Z",
     "shell.execute_reply.started": "2020-11-18T00:21:38.337818Z"
    }
   },
   "outputs": [
    {
     "ename": "ValueError",
     "evalue": "`x0` is infeasible.",
     "output_type": "error",
     "traceback": [
      "\u001b[0;31m---------------------------------------------------------------------------\u001b[0m",
      "\u001b[0;31mValueError\u001b[0m                                Traceback (most recent call last)",
      "\u001b[0;32m<ipython-input-4-392cce9d4c08>\u001b[0m in \u001b[0;36m<module>\u001b[0;34m\u001b[0m\n\u001b[1;32m     13\u001b[0m \u001b[0;34m\u001b[0m\u001b[0m\n\u001b[1;32m     14\u001b[0m \u001b[0;32mfor\u001b[0m \u001b[0mrun\u001b[0m \u001b[0;32min\u001b[0m \u001b[0mrange\u001b[0m\u001b[0;34m(\u001b[0m\u001b[0;36m1\u001b[0m\u001b[0;34m,\u001b[0m \u001b[0;36m6\u001b[0m\u001b[0;34m)\u001b[0m\u001b[0;34m:\u001b[0m\u001b[0;34m\u001b[0m\u001b[0;34m\u001b[0m\u001b[0m\n\u001b[0;32m---> 15\u001b[0;31m     \u001b[0mprocess_data\u001b[0m\u001b[0;34m(\u001b[0m\u001b[0mindir\u001b[0m\u001b[0;34m,\u001b[0m \u001b[0msempa_file_suffix\u001b[0m\u001b[0;34m,\u001b[0m \u001b[0mname\u001b[0m\u001b[0;34m,\u001b[0m \u001b[0mrun\u001b[0m\u001b[0;34m)\u001b[0m\u001b[0;34m\u001b[0m\u001b[0;34m\u001b[0m\u001b[0m\n\u001b[0m",
      "\u001b[0;32m<ipython-input-3-b427e2662c23>\u001b[0m in \u001b[0;36mprocess_data\u001b[0;34m(indir, sempa_file_suffix, name, run)\u001b[0m\n\u001b[1;32m     67\u001b[0m     \u001b[0;31m# Minimize the min to max spread on the magnitudes of the combines images. Use CoM for a starting point.\u001b[0m\u001b[0;34m\u001b[0m\u001b[0;34m\u001b[0m\u001b[0;34m\u001b[0m\u001b[0m\n\u001b[1;32m     68\u001b[0m \u001b[0;34m\u001b[0m\u001b[0m\n\u001b[0;32m---> 69\u001b[0;31m     \u001b[0moffsets\u001b[0m\u001b[0;34m,\u001b[0m \u001b[0mstatus\u001b[0m\u001b[0;34m,\u001b[0m \u001b[0mmessage\u001b[0m \u001b[0;34m=\u001b[0m \u001b[0mfind_offsets\u001b[0m\u001b[0;34m(\u001b[0m\u001b[0mm_1_fitted_denoised\u001b[0m\u001b[0;34m,\u001b[0m \u001b[0mm_2_fitted_denoised\u001b[0m\u001b[0;34m)\u001b[0m\u001b[0;34m\u001b[0m\u001b[0;34m\u001b[0m\u001b[0m\n\u001b[0m\u001b[1;32m     70\u001b[0m     \u001b[0mm_1_offset\u001b[0m\u001b[0;34m,\u001b[0m \u001b[0mm_2_offset\u001b[0m \u001b[0;34m=\u001b[0m \u001b[0moffsets\u001b[0m\u001b[0;34m\u001b[0m\u001b[0;34m\u001b[0m\u001b[0m\n\u001b[1;32m     71\u001b[0m \u001b[0;34m\u001b[0m\u001b[0m\n",
      "\u001b[0;32m~/Library/Mobile Documents/com~apple~CloudDocs/School/Electrons/NISTView-ish/pynistview_utils.py\u001b[0m in \u001b[0;36mfind_offsets\u001b[0;34m(img_1, img_2)\u001b[0m\n\u001b[1;32m    147\u001b[0m     \u001b[0mx0\u001b[0m \u001b[0;34m=\u001b[0m \u001b[0mfind_com\u001b[0m\u001b[0;34m(\u001b[0m\u001b[0mimg_1\u001b[0m\u001b[0;34m,\u001b[0m \u001b[0mimg_2\u001b[0m\u001b[0;34m)\u001b[0m\u001b[0;34m\u001b[0m\u001b[0;34m\u001b[0m\u001b[0m\n\u001b[1;32m    148\u001b[0m \u001b[0;34m\u001b[0m\u001b[0m\n\u001b[0;32m--> 149\u001b[0;31m     \u001b[0mres\u001b[0m \u001b[0;34m=\u001b[0m \u001b[0mleast_squares\u001b[0m\u001b[0;34m(\u001b[0m\u001b[0mptp_magnitudes\u001b[0m\u001b[0;34m,\u001b[0m \u001b[0mx0\u001b[0m\u001b[0;34m,\u001b[0m \u001b[0mbounds\u001b[0m\u001b[0;34m=\u001b[0m\u001b[0;34m(\u001b[0m\u001b[0;34m-\u001b[0m\u001b[0;36m4\u001b[0m\u001b[0;34m,\u001b[0m \u001b[0;36m4\u001b[0m\u001b[0;34m)\u001b[0m\u001b[0;34m,\u001b[0m \u001b[0margs\u001b[0m\u001b[0;34m=\u001b[0m\u001b[0;34m(\u001b[0m\u001b[0mimg_1\u001b[0m\u001b[0;34m,\u001b[0m \u001b[0mimg_2\u001b[0m\u001b[0;34m)\u001b[0m\u001b[0;34m)\u001b[0m\u001b[0;34m\u001b[0m\u001b[0;34m\u001b[0m\u001b[0m\n\u001b[0m\u001b[1;32m    150\u001b[0m \u001b[0;34m\u001b[0m\u001b[0m\n\u001b[1;32m    151\u001b[0m     \u001b[0;32mreturn\u001b[0m \u001b[0mres\u001b[0m\u001b[0;34m.\u001b[0m\u001b[0mx\u001b[0m\u001b[0;34m,\u001b[0m \u001b[0mres\u001b[0m\u001b[0;34m.\u001b[0m\u001b[0mstatus\u001b[0m\u001b[0;34m,\u001b[0m \u001b[0mres\u001b[0m\u001b[0;34m.\u001b[0m\u001b[0mmessage\u001b[0m\u001b[0;34m\u001b[0m\u001b[0;34m\u001b[0m\u001b[0m\n",
      "\u001b[0;32m/usr/local/anaconda3/lib/python3.7/site-packages/scipy/optimize/_lsq/least_squares.py\u001b[0m in \u001b[0;36mleast_squares\u001b[0;34m(fun, x0, jac, bounds, method, ftol, xtol, gtol, x_scale, loss, f_scale, diff_step, tr_solver, tr_options, jac_sparsity, max_nfev, verbose, args, kwargs)\u001b[0m\n\u001b[1;32m    793\u001b[0m \u001b[0;34m\u001b[0m\u001b[0m\n\u001b[1;32m    794\u001b[0m     \u001b[0;32mif\u001b[0m \u001b[0;32mnot\u001b[0m \u001b[0min_bounds\u001b[0m\u001b[0;34m(\u001b[0m\u001b[0mx0\u001b[0m\u001b[0;34m,\u001b[0m \u001b[0mlb\u001b[0m\u001b[0;34m,\u001b[0m \u001b[0mub\u001b[0m\u001b[0;34m)\u001b[0m\u001b[0;34m:\u001b[0m\u001b[0;34m\u001b[0m\u001b[0;34m\u001b[0m\u001b[0m\n\u001b[0;32m--> 795\u001b[0;31m         \u001b[0;32mraise\u001b[0m \u001b[0mValueError\u001b[0m\u001b[0;34m(\u001b[0m\u001b[0;34m\"`x0` is infeasible.\"\u001b[0m\u001b[0;34m)\u001b[0m\u001b[0;34m\u001b[0m\u001b[0;34m\u001b[0m\u001b[0m\n\u001b[0m\u001b[1;32m    796\u001b[0m \u001b[0;34m\u001b[0m\u001b[0m\n\u001b[1;32m    797\u001b[0m     \u001b[0mx_scale\u001b[0m \u001b[0;34m=\u001b[0m \u001b[0mcheck_x_scale\u001b[0m\u001b[0;34m(\u001b[0m\u001b[0mx_scale\u001b[0m\u001b[0;34m,\u001b[0m \u001b[0mx0\u001b[0m\u001b[0;34m)\u001b[0m\u001b[0;34m\u001b[0m\u001b[0;34m\u001b[0m\u001b[0m\n",
      "\u001b[0;31mValueError\u001b[0m: `x0` is infeasible."
     ]
    }
   ],
   "source": [
    "# Configure input files\n",
    "\n",
    "indir = \"/Users/rmoraski/Documents/iCloud/School/Electrons/NISTView-ish/\"\n",
    "sempa_file_suffix = 'sempa'\n",
    "\n",
    "#name = \"191001_Fe_whisker/Fe_whisker\"\n",
    "#name = \"FeGd_Nov_Dec/171117_FeGd\"\n",
    "#name = \"FeGd_Nov_Dec/FeGd100\"\n",
    "#name = \"FeGd_Nov_Dec/FeGd200\"\n",
    "name = \"20201116_Zeros/SEMPA\"\n",
    "\n",
    "#run = 1\n",
    "\n",
    "for run in range(1, 6):\n",
    "    process_data(indir, sempa_file_suffix, name, run)"
   ]
  },
  {
   "cell_type": "code",
   "execution_count": null,
   "metadata": {},
   "outputs": [],
   "source": []
  }
 ],
 "metadata": {
  "kernelspec": {
   "display_name": "Python 3",
   "language": "python",
   "name": "python3"
  },
  "language_info": {
   "codemirror_mode": {
    "name": "ipython",
    "version": 3
   },
   "file_extension": ".py",
   "mimetype": "text/x-python",
   "name": "python",
   "nbconvert_exporter": "python",
   "pygments_lexer": "ipython3",
   "version": "3.9.2"
  },
  "latex_envs": {
   "LaTeX_envs_menu_present": true,
   "autoclose": false,
   "autocomplete": true,
   "bibliofile": "biblio.bib",
   "cite_by": "apalike",
   "current_citInitial": 1,
   "eqLabelWithNumbers": true,
   "eqNumInitial": 1,
   "hotkeys": {
    "equation": "Ctrl-E",
    "itemize": "Ctrl-I"
   },
   "labels_anchors": false,
   "latex_user_defs": false,
   "report_style_numbering": false,
   "user_envs_cfg": false
  },
  "toc": {
   "base_numbering": 1,
   "nav_menu": {},
   "number_sections": false,
   "sideBar": true,
   "skip_h1_title": false,
   "title_cell": "Table of Contents",
   "title_sidebar": "Contents",
   "toc_cell": false,
   "toc_position": {},
   "toc_section_display": true,
   "toc_window_display": true
  },
  "varInspector": {
   "cols": {
    "lenName": 16,
    "lenType": 16,
    "lenVar": 40
   },
   "kernels_config": {
    "python": {
     "delete_cmd_postfix": "",
     "delete_cmd_prefix": "del ",
     "library": "var_list.py",
     "varRefreshCmd": "print(var_dic_list())"
    },
    "r": {
     "delete_cmd_postfix": ") ",
     "delete_cmd_prefix": "rm(",
     "library": "var_list.r",
     "varRefreshCmd": "cat(var_dic_list()) "
    }
   },
   "position": {
    "height": "723.763671875px",
    "left": "1614.71533203125px",
    "right": "20px",
    "top": "119.99999237060547px",
    "width": "312.16290283203125px"
   },
   "types_to_exclude": [
    "module",
    "function",
    "builtin_function_or_method",
    "instance",
    "_Feature"
   ],
   "window_display": false
  }
 },
 "nbformat": 4,
 "nbformat_minor": 4
}

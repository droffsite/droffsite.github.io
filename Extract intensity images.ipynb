{
 "cells": [
  {
   "cell_type": "code",
   "execution_count": 1,
   "id": "6b42f673-b9c2-436f-a49c-3c96b3b6ffdb",
   "metadata": {},
   "outputs": [],
   "source": [
    "import glob, time\n",
    "import matplotlib.pyplot as plt\n",
    "\n",
    "from pynistview_utils import *\n",
    "\n",
    "sempa_file_suffix = 'sempa'\n",
    "zcheck = 'ix2.' + sempa_file_suffix"
   ]
  },
  {
   "cell_type": "code",
   "execution_count": 2,
   "id": "d6225da0-b8b0-4dfc-a6bc-b4ea79051ce3",
   "metadata": {},
   "outputs": [],
   "source": [
    "# Parent directory of intensity files. Be sure to include trailing slash!\n",
    "paths = ['/Users/rmoraski/Documents/iCloud/School/Electrons/NISTView-ish/FeGd_Nov_Dec/',\n",
    "        '/Users/rmoraski/Documents/iCloud/School/Electrons/NISTView-ish/alice/']\n",
    "\n",
    "# Default values are probably fine for these.\n",
    "figsize = (3, 3)\n",
    "dpi = 300"
   ]
  },
  {
   "cell_type": "code",
   "execution_count": 4,
   "id": "2d98130f-0d04-4377-89c4-9c273339e719",
   "metadata": {},
   "outputs": [
    {
     "name": "stdout",
     "output_type": "stream",
     "text": [
      "In directory /Users/rmoraski/Documents/iCloud/School/Electrons/NISTView-ish/FeGd_Nov_Dec/\n",
      "\tWorking on 171117_FeGd001\n",
      "\tWorking on 171117_FeGd002\n",
      "\tWorking on 171117_FeGd003\n",
      "\tWorking on 171117_FeGd004\n",
      "\tWorking on 171117_FeGd005\n",
      "\tWorking on FeGd100001\n",
      "\tWorking on FeGd100002\n",
      "\tWorking on FeGd100003\n",
      "\tWorking on FeGd100004\n",
      "\tWorking on FeGd100005\n",
      "\tWorking on FeGd100006\n",
      "\tWorking on FeGd100007\n",
      "\tWorking on FeGd100008\n",
      "\tWorking on FeGd100009\n",
      "\tWorking on FeGd100010\n",
      "\tWorking on FeGd100011\n",
      "\tWorking on FeGd200001\n",
      "\tWorking on FeGd200002\n",
      "\tWorking on FeGd200003\n",
      "\tWorking on FeGd200004\n",
      "\tWorking on FeGd200005\n",
      "\tWorking on FeGd200006\n",
      "In directory /Users/rmoraski/Documents/iCloud/School/Electrons/NISTView-ish/alice/\n",
      "\tWorking on 171117_FeGd002\n",
      "\tWorking on 171117_FeGd003\n",
      "Completed. Wrote 24 files in 3.2 seconds.\n"
     ]
    }
   ],
   "source": [
    "counter = 0\n",
    "tick = time.perf_counter()\n",
    "\n",
    "for path in paths:\n",
    "    print('In directory {}'.format(path))\n",
    "\n",
    "    for file in (sorted(glob.iglob(path + '*ix*' + sempa_file_suffix))):\n",
    "        axes = 'XZ' if zcheck in file else 'XY'\n",
    "        file_name = file.split(path)[1].split('_ix')[0]\n",
    "        print('\\tWorking on {}'.format(file_name))\n",
    "\n",
    "        im_image, _ = image_data(file)\n",
    "\n",
    "        plt.figure(figsize=figsize, dpi=dpi)\n",
    "        plt.imshow(im_image, cmap='gray')\n",
    "        ax = plt.gca()\n",
    "        ax.axes.get_xaxis().set_visible(False)\n",
    "        ax.axes.get_yaxis().set_visible(False)\n",
    "\n",
    "        plt.savefig(path + file_name + '_' + axes + '_im.png')\n",
    "        plt.close()\n",
    "\n",
    "        counter += 1\n",
    "    \n",
    "tock = time.perf_counter()\n",
    "    \n",
    "print('Completed. Wrote {} files in {:.1f} seconds.'.format(counter, tock - tick))"
   ]
  },
  {
   "cell_type": "code",
   "execution_count": null,
   "id": "9f289f4b-b917-4e86-9470-5323aaa72a23",
   "metadata": {},
   "outputs": [],
   "source": []
  }
 ],
 "metadata": {
  "kernelspec": {
   "display_name": "Python 3",
   "language": "python",
   "name": "python3"
  },
  "language_info": {
   "codemirror_mode": {
    "name": "ipython",
    "version": 3
   },
   "file_extension": ".py",
   "mimetype": "text/x-python",
   "name": "python",
   "nbconvert_exporter": "python",
   "pygments_lexer": "ipython3",
   "version": "3.9.2"
  }
 },
 "nbformat": 4,
 "nbformat_minor": 5
}

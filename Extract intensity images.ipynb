{
 "cells": [
  {
   "cell_type": "code",
   "execution_count": 1,
   "metadata": {},
   "outputs": [],
   "source": [
    "import glob, time\n",
    "import matplotlib.pyplot as plt\n",
    "\n",
    "from pynistview_utils import *\n",
    "\n",
    "x2check = 'x2.' + sempa_file_suffix\n",
    "zcheck = 'z.' + sempa_file_suffix\n",
    "\n",
    "# Default values are probably fine for these.\n",
    "figsize = (3, 3)\n",
    "dpi = 300\n"
   ]
  },
  {
   "cell_type": "code",
   "execution_count": 2,
   "metadata": {},
   "outputs": [],
   "source": [
    "# Parent directory of intensity files. Be sure to include trailing slash!\n",
    "paths = ['/Users/rmoraski/Documents/iCloud/School/Electrons/NISTView-ish/FeGd_Multi/']\n",
    "\n",
    "# Fix my inability to read\n",
    "paths = [path + '/' if path[-1] != '/' else path for path in paths]"
   ]
  },
  {
   "cell_type": "code",
   "execution_count": 3,
   "metadata": {},
   "outputs": [
    {
     "name": "stdout",
     "output_type": "stream",
     "text": [
      "In directory /Users/rmoraski/Documents/iCloud/School/Electrons/NISTView-ish/FeGd_Multi/\n",
      "\tWorking on 20161213012_XZ_im.png\n",
      "\tWorking on 20161213012_XZ_mx.png\n",
      "\tWorking on 20161213012_XZ_mz.png\n",
      "Completed. Wrote 3 files in 0.5 seconds.\n"
     ]
    }
   ],
   "source": [
    "counter = 0\n",
    "tick = time.perf_counter()\n",
    "search_extensions = ['*ix*', '*mx*', '*my*', '*mz*']\n",
    "final_extensions = ['_im', '_mx', '_my', '_mz']\n",
    "axes = ''\n",
    "\n",
    "for path in paths:\n",
    "    print('In directory {}'.format(path))\n",
    "\n",
    "    for index in range(len(search_extensions)):\n",
    "        for file in (sorted(glob.iglob(path + search_extensions[index] + sempa_file_suffix))):\n",
    "            axes = 'XZ' if zcheck in file or x2check in file else 'XY'\n",
    "            split_on = '_m' if index else '_ix'\n",
    "\n",
    "            file_name = file.split(path)[1].split(split_on)[0] + '_' \\\n",
    "                + axes + final_extensions[index] + '.png'\n",
    "            print('\\tWorking on {}'.format(file_name))\n",
    "\n",
    "            im_image, _ = image_data(file)\n",
    "\n",
    "            plt.figure(figsize=figsize, dpi=dpi)\n",
    "            plt.imshow(im_image, cmap='gray')\n",
    "            ax = plt.gca()\n",
    "            ax.axes.get_xaxis().set_visible(False)\n",
    "            ax.axes.get_yaxis().set_visible(False)\n",
    "\n",
    "            plt.savefig(path + file_name)\n",
    "            plt.close()\n",
    "\n",
    "            counter += 1\n",
    "    \n",
    "tock = time.perf_counter()\n",
    "    \n",
    "print('Completed. Wrote {} files in {:.1f} seconds.'.format(counter, tock - tick))\n"
   ]
  },
  {
   "cell_type": "code",
   "execution_count": null,
   "metadata": {},
   "outputs": [],
   "source": []
  }
 ],
 "metadata": {
  "interpreter": {
   "hash": "87f48ab58f6a391c90bbacacdc7360abd019800ff9baab2a0be3977ec238a63d"
  },
  "kernelspec": {
   "display_name": "Python 3.9.2 64-bit ('pynv': conda)",
   "name": "python3"
  },
  "language_info": {
   "codemirror_mode": {
    "name": "ipython",
    "version": 3
   },
   "file_extension": ".py",
   "mimetype": "text/x-python",
   "name": "python",
   "nbconvert_exporter": "python",
   "pygments_lexer": "ipython3",
   "version": "3.9.2"
  }
 },
 "nbformat": 4,
 "nbformat_minor": 5
}
